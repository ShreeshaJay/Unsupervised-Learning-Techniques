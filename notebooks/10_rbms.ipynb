{
 "cells": [
  {
   "cell_type": "markdown",
   "metadata": {},
   "source": [
    "# Inside Unsupervised Learning: Generative Models and Recommender Systems\n",
    "## Explore generative models and build movie recommender systems\n",
    "### by Ankur A. Patel + O'Reilly Media, Inc.\n",
    "\n",
    "## Overview\n",
    "In this notebook, we will explore:\n",
    "#1 The difference between discriminative and generative models\n",
    "#2 Why generative models are so powerful\n",
    "#3 The various types of generative models used today\n",
    "#4 How to train a simple generative model (restricted Boltzmann machines)\n",
    "\n",
    "Specifically, we will train RBMs to build a movie recommender system. After this course, you should be familiar with generative models and know a bit about how to train recommender systems in your field."
   ]
  },
  {
   "cell_type": "markdown",
   "metadata": {},
   "source": [
    "## Data Preparation\n",
    "Load in the movie ratings dataset and prepare it.\n",
    "\n",
    "We will use the MovieLens 20M Dataset. The original ratings file has 20,000,263 ratings, 27,278 movies, and 138,493 users.\n",
    "\n",
    "We will use a reduced version of this data for this course. Our reduced version has data for the top 1,000 movies and a sample of 1,000 users.\n",
    "\n",
    "Since not all 1,000 users rated all 1,000 movies, there are 664,550 ratings in total.\n",
    "\n",
    "For each movie review, we have the original movieID, the original userID, the movie rating the user assigned, and the timestamp. We have two additional fields, the new movieID and the new userID, which are just reindexed versions of the original movieID and the original userID for the reduced dataset."
   ]
  },
  {
   "cell_type": "code",
   "execution_count": 165,
   "metadata": {},
   "outputs": [],
   "source": [
    "'''Main'''\n",
    "import numpy as np\n",
    "import pandas as pd\n",
    "import os, time, re\n",
    "import pickle, gzip, datetime\n",
    "from datetime import datetime\n",
    "\n",
    "'''Data Viz'''\n",
    "import matplotlib.pyplot as plt\n",
    "import seaborn as sns\n",
    "color = sns.color_palette()\n",
    "import matplotlib as mpl\n",
    "\n",
    "%matplotlib inline\n",
    "\n",
    "'''Data Prep and Model Evaluation'''\n",
    "from sklearn import preprocessing as pp\n",
    "from sklearn.model_selection import train_test_split \n",
    "from sklearn.model_selection import StratifiedKFold \n",
    "from sklearn.metrics import log_loss\n",
    "from sklearn.metrics import precision_recall_curve, average_precision_score\n",
    "from sklearn.metrics import roc_curve, auc, roc_auc_score, mean_squared_error\n",
    "\n",
    "'''Algos'''\n",
    "import lightgbm as lgb\n",
    "\n",
    "'''TensorFlow and Keras'''\n",
    "import tensorflow as tf\n",
    "import keras\n",
    "from keras import backend as K\n",
    "from keras.models import Sequential, Model\n",
    "from keras.layers import Activation, Dense, Dropout\n",
    "from keras.layers import BatchNormalization, Input, Lambda\n",
    "from keras.layers import Embedding, Flatten, dot\n",
    "from keras import regularizers\n",
    "from keras.losses import mse, binary_crossentropy"
   ]
  },
  {
   "cell_type": "code",
   "execution_count": 287,
   "metadata": {},
   "outputs": [],
   "source": [
    "# Load the data\n",
    "os.chdir('/home/jovyan/')\n",
    "current_path = os.getcwd()\n",
    "pickle_file = '/data/movielens_data/ratingReducedPickle'\n",
    "ratingDF = pd.read_pickle(current_path + pickle_file)"
   ]
  },
  {
   "cell_type": "code",
   "execution_count": 288,
   "metadata": {},
   "outputs": [
    {
     "data": {
      "text/html": [
       "<div>\n",
       "<style scoped>\n",
       "    .dataframe tbody tr th:only-of-type {\n",
       "        vertical-align: middle;\n",
       "    }\n",
       "\n",
       "    .dataframe tbody tr th {\n",
       "        vertical-align: top;\n",
       "    }\n",
       "\n",
       "    .dataframe thead th {\n",
       "        text-align: right;\n",
       "    }\n",
       "</style>\n",
       "<table border=\"1\" class=\"dataframe\">\n",
       "  <thead>\n",
       "    <tr style=\"text-align: right;\">\n",
       "      <th></th>\n",
       "      <th>userId</th>\n",
       "      <th>movieId</th>\n",
       "      <th>rating</th>\n",
       "      <th>timestamp</th>\n",
       "      <th>newMovieId</th>\n",
       "      <th>newUserId</th>\n",
       "    </tr>\n",
       "  </thead>\n",
       "  <tbody>\n",
       "    <tr>\n",
       "      <th>0</th>\n",
       "      <td>156</td>\n",
       "      <td>1</td>\n",
       "      <td>5.0</td>\n",
       "      <td>2002-11-19 20:54:26</td>\n",
       "      <td>1</td>\n",
       "      <td>1</td>\n",
       "    </tr>\n",
       "    <tr>\n",
       "      <th>1</th>\n",
       "      <td>156</td>\n",
       "      <td>2</td>\n",
       "      <td>5.0</td>\n",
       "      <td>2002-12-26 21:20:49</td>\n",
       "      <td>2</td>\n",
       "      <td>1</td>\n",
       "    </tr>\n",
       "    <tr>\n",
       "      <th>2</th>\n",
       "      <td>156</td>\n",
       "      <td>3</td>\n",
       "      <td>2.0</td>\n",
       "      <td>2002-12-02 03:53:45</td>\n",
       "      <td>3</td>\n",
       "      <td>1</td>\n",
       "    </tr>\n",
       "    <tr>\n",
       "      <th>3</th>\n",
       "      <td>156</td>\n",
       "      <td>5</td>\n",
       "      <td>3.0</td>\n",
       "      <td>2002-12-26 23:16:23</td>\n",
       "      <td>4</td>\n",
       "      <td>1</td>\n",
       "    </tr>\n",
       "    <tr>\n",
       "      <th>4</th>\n",
       "      <td>156</td>\n",
       "      <td>6</td>\n",
       "      <td>4.0</td>\n",
       "      <td>2002-11-20 19:55:17</td>\n",
       "      <td>5</td>\n",
       "      <td>1</td>\n",
       "    </tr>\n",
       "  </tbody>\n",
       "</table>\n",
       "</div>"
      ],
      "text/plain": [
       "   userId  movieId  rating            timestamp  newMovieId  newUserId\n",
       "0     156        1     5.0  2002-11-19 20:54:26           1          1\n",
       "1     156        2     5.0  2002-12-26 21:20:49           2          1\n",
       "2     156        3     2.0  2002-12-02 03:53:45           3          1\n",
       "3     156        5     3.0  2002-12-26 23:16:23           4          1\n",
       "4     156        6     4.0  2002-11-20 19:55:17           5          1"
      ]
     },
     "execution_count": 288,
     "metadata": {},
     "output_type": "execute_result"
    }
   ],
   "source": [
    "# View 5 rows of the data\n",
    "ratingDF.head()"
   ]
  },
  {
   "cell_type": "code",
   "execution_count": 289,
   "metadata": {},
   "outputs": [
    {
     "name": "stdout",
     "output_type": "stream",
     "text": [
      "Number of unique users:  1000\n",
      "Number of unique movies:  1000\n",
      "Number of total ratings:  664550\n",
      "Average number of ratings per user:  664.55\n"
     ]
    }
   ],
   "source": [
    "# Calculate summary statistics on reduced dataset\n",
    "n_users = ratingDF.userId.unique().shape[0]\n",
    "n_movies = ratingDF.movieId.unique().shape[0]\n",
    "n_ratings = len(ratingDF)\n",
    "avg_ratings_per_user = n_ratings/n_users\n",
    "\n",
    "print('Number of unique users: ', n_users)\n",
    "print('Number of unique movies: ', n_movies)\n",
    "print('Number of total ratings: ', n_ratings)\n",
    "print('Average number of ratings per user: ', avg_ratings_per_user)"
   ]
  },
  {
   "cell_type": "code",
   "execution_count": 290,
   "metadata": {},
   "outputs": [],
   "source": [
    "# Split into validation and test, such that each is 5% of the dataset\n",
    "X_train, X_test = train_test_split(ratingDF, test_size=0.10, \\\n",
    "                                   shuffle=True, random_state=2018)\n",
    "\n",
    "X_validation, X_test = train_test_split(X_test, test_size=0.50, \\\n",
    "                                        shuffle=True, random_state=2018)"
   ]
  },
  {
   "cell_type": "code",
   "execution_count": 291,
   "metadata": {},
   "outputs": [
    {
     "name": "stdout",
     "output_type": "stream",
     "text": [
      "Size of train set:  598095\n",
      "Size of validation set:  33227\n",
      "Size of test set:  33228\n"
     ]
    }
   ],
   "source": [
    "# Confirm size of train, validation, and test datasets\n",
    "print('Size of train set: ', len(X_train))\n",
    "print('Size of validation set: ', len(X_validation))\n",
    "print('Size of test set: ', len(X_test))"
   ]
  },
  {
   "cell_type": "code",
   "execution_count": 292,
   "metadata": {},
   "outputs": [],
   "source": [
    "# Generate ratings matrix for train\n",
    "ratings_train = np.zeros((n_users, n_movies))\n",
    "for row in X_train.itertuples():\n",
    "    ratings_train[row[6]-1, row[5]-1] = row[3]"
   ]
  },
  {
   "cell_type": "code",
   "execution_count": 293,
   "metadata": {},
   "outputs": [
    {
     "name": "stdout",
     "output_type": "stream",
     "text": [
      "Sparsity: 59.81%\n"
     ]
    }
   ],
   "source": [
    "# Calculate sparsity of the train ratings matrix\n",
    "sparsity = float(len(ratings_train.nonzero()[0]))\n",
    "sparsity /= (ratings_train.shape[0] * ratings_train.shape[1])\n",
    "sparsity *= 100\n",
    "print('Sparsity: {:4.2f}%'.format(sparsity))"
   ]
  },
  {
   "cell_type": "code",
   "execution_count": 294,
   "metadata": {},
   "outputs": [],
   "source": [
    "# Generate ratings matrix for validation\n",
    "ratings_validation = np.zeros((n_users, n_movies))\n",
    "for row in X_validation.itertuples():\n",
    "    ratings_validation[row[6]-1, row[5]-1] = row[3]"
   ]
  },
  {
   "cell_type": "code",
   "execution_count": 295,
   "metadata": {},
   "outputs": [],
   "source": [
    "# Generate ratings matrix for test\n",
    "ratings_test = np.zeros((n_users, n_movies))\n",
    "for row in X_test.itertuples():\n",
    "    ratings_test[row[6]-1, row[5]-1] = row[3]"
   ]
  },
  {
   "cell_type": "code",
   "execution_count": 296,
   "metadata": {},
   "outputs": [
    {
     "name": "stdout",
     "output_type": "stream",
     "text": [
      "Sparsity: 3.32%\n"
     ]
    }
   ],
   "source": [
    "# Calculate sparsity of the validation ratings matrix\n",
    "sparsity = float(len(ratings_validation.nonzero()[0]))\n",
    "sparsity /= (ratings_validation.shape[0] * ratings_validation.shape[1])\n",
    "sparsity *= 100\n",
    "print('Sparsity: {:4.2f}%'.format(sparsity))"
   ]
  },
  {
   "cell_type": "markdown",
   "metadata": {},
   "source": [
    "## Experiment #1 - Naive Recommender System A\n",
    "Assign naive 3.5 rating to each missing movie review and calculate the mean squared error."
   ]
  },
  {
   "cell_type": "code",
   "execution_count": 297,
   "metadata": {},
   "outputs": [
    {
     "name": "stdout",
     "output_type": "stream",
     "text": [
      "Mean squared error using naive prediction: 1.0269660216089325\n"
     ]
    }
   ],
   "source": [
    "# Store actual ratings for the validation set\n",
    "actual_validation = ratings_validation[ratings_validation.nonzero()].flatten()\n",
    "\n",
    "# Assign \"naive\" 3.5 rating to missing values in the validation set\n",
    "pred_validation = np.zeros((len(X_validation),1))\n",
    "pred_validation[pred_validation==0] = 3.5\n",
    "\n",
    "# Calculate mean square error using this naive prediction\n",
    "naive_prediction = mean_squared_error(pred_validation, actual_validation)\n",
    "print('Mean squared error using naive prediction:', naive_prediction)"
   ]
  },
  {
   "cell_type": "markdown",
   "metadata": {},
   "source": [
    "## Experiment #2 - Naive Recommender System B\n",
    "Predict a user's rating based on user's average rating for all other movies the user has rated."
   ]
  },
  {
   "cell_type": "code",
   "execution_count": 298,
   "metadata": {},
   "outputs": [
    {
     "name": "stdout",
     "output_type": "stream",
     "text": [
      "Mean squared error using user average: 0.8588526417952581\n"
     ]
    }
   ],
   "source": [
    "# Average user rating recommender system\n",
    "ratings_validation_prediction = np.zeros((n_users, n_movies))\n",
    "i = 0\n",
    "for row in ratings_train:\n",
    "    ratings_validation_prediction[i][ratings_validation_prediction[i]==0] \\\n",
    "        = np.mean(row[row>0])\n",
    "    i += 1\n",
    "\n",
    "pred_validation = ratings_validation_prediction \\\n",
    "    [ratings_validation.nonzero()].flatten()\n",
    "user_average = mean_squared_error(pred_validation, actual_validation)\n",
    "print('Mean squared error using user average:', user_average)"
   ]
  },
  {
   "cell_type": "markdown",
   "metadata": {},
   "source": [
    "## Experiment #3 - Naive Recommender System C\n",
    "Predict a user's rating for a movie based on the average rating other users have given that movie."
   ]
  },
  {
   "cell_type": "code",
   "execution_count": 299,
   "metadata": {},
   "outputs": [
    {
     "name": "stdout",
     "output_type": "stream",
     "text": [
      "Mean squared error using movie average: 0.7891457799396219\n"
     ]
    }
   ],
   "source": [
    "# Average movie rating recommender system\n",
    "ratings_validation_prediction = np.zeros((n_users, n_movies)).T\n",
    "i = 0\n",
    "for row in ratings_train.T:\n",
    "    ratings_validation_prediction[i][ratings_validation_prediction[i]==0] \\\n",
    "        = np.mean(row[row>0])\n",
    "    i += 1\n",
    "\n",
    "ratings_validation_prediction = ratings_validation_prediction.T\n",
    "pred_validation = ratings_validation_prediction \\\n",
    "    [ratings_validation.nonzero()].flatten()\n",
    "movie_average = mean_squared_error(pred_validation.astype(np.float64), \\\n",
    "                                   actual_validation.astype(np.float64))\n",
    "print('Mean squared error using movie average:', movie_average)"
   ]
  },
  {
   "cell_type": "markdown",
   "metadata": {},
   "source": [
    "## Experiment #4 - Recommender System using Matrix Factorization\n",
    "We will use 1 latent factor, but you could experiment with a different number of latent factors."
   ]
  },
  {
   "cell_type": "code",
   "execution_count": 22,
   "metadata": {},
   "outputs": [],
   "source": [
    "n_latent_factors = 1\n",
    "\n",
    "user_input = Input(shape=[1], name='user')\n",
    "user_embedding = Embedding(input_dim=n_users + 1, \\\n",
    "                           output_dim=n_latent_factors, \\\n",
    "                           name='user_embedding')(user_input)\n",
    "user_vec = Flatten(name='flatten_users')(user_embedding)\n",
    "\n",
    "movie_input = Input(shape=[1], name='movie')\n",
    "movie_embedding = Embedding(input_dim=n_movies + 1, \\\n",
    "                            output_dim=n_latent_factors,\n",
    "                            name='movie_embedding')(movie_input)\n",
    "movie_vec = Flatten(name='flatten_movies')(movie_embedding)\n",
    "\n",
    "product = dot([movie_vec, user_vec], axes=1)\n",
    "model = Model(inputs=[user_input, movie_input], outputs=product)\n",
    "model.compile('adam', 'mean_squared_error')"
   ]
  },
  {
   "cell_type": "code",
   "execution_count": 23,
   "metadata": {},
   "outputs": [
    {
     "name": "stdout",
     "output_type": "stream",
     "text": [
      "Train on 598095 samples, validate on 33227 samples\n",
      "Epoch 1/10\n",
      "598095/598095 [==============================] - 41s 69us/step - loss: 4.0571 - val_loss: 0.6451\n",
      "Epoch 2/10\n",
      "598095/598095 [==============================] - 43s 72us/step - loss: 0.6437 - val_loss: 0.6429\n",
      "Epoch 3/10\n",
      "598095/598095 [==============================] - 44s 73us/step - loss: 0.6435 - val_loss: 0.6415\n",
      "Epoch 4/10\n",
      "598095/598095 [==============================] - 45s 75us/step - loss: 0.6435 - val_loss: 0.6423\n",
      "Epoch 5/10\n",
      "598095/598095 [==============================] - 44s 73us/step - loss: 0.6434 - val_loss: 0.6423\n",
      "Epoch 6/10\n",
      "598095/598095 [==============================] - 44s 73us/step - loss: 0.6434 - val_loss: 0.6432\n",
      "Epoch 7/10\n",
      "598095/598095 [==============================] - 44s 73us/step - loss: 0.6434 - val_loss: 0.6438\n",
      "Epoch 8/10\n",
      "598095/598095 [==============================] - 44s 73us/step - loss: 0.6436 - val_loss: 0.6437\n",
      "Epoch 9/10\n",
      "598095/598095 [==============================] - 44s 73us/step - loss: 0.6437 - val_loss: 0.6429\n",
      "Epoch 10/10\n",
      "598095/598095 [==============================] - 44s 74us/step - loss: 0.6435 - val_loss: 0.6424\n"
     ]
    }
   ],
   "source": [
    "history = model.fit(x=[X_train.newUserId, X_train.newMovieId], \\\n",
    "                    y=X_train.rating, epochs=10, \\\n",
    "                    validation_data=([X_validation.newUserId, \\\n",
    "                    X_validation.newMovieId], X_validation.rating), \\\n",
    "                    verbose=1)"
   ]
  },
  {
   "cell_type": "code",
   "execution_count": 24,
   "metadata": {},
   "outputs": [
    {
     "name": "stdout",
     "output_type": "stream",
     "text": [
      "Minimum MSE:  0.6415040424055428\n"
     ]
    },
    {
     "data": {
      "image/png": "[encoded data removed]",
      "text/plain": [
       "<Figure size 432x288 with 1 Axes>"
      ]
     },
     "metadata": {
      "needs_background": "light"
     },
     "output_type": "display_data"
    }
   ],
   "source": [
    "pd.Series(history.history['val_loss'][:]).plot(logy=False)\n",
    "plt.xlabel(\"Epoch\")\n",
    "plt.ylabel(\"Validation Error\")\n",
    "print('Minimum MSE: ', min(history.history['val_loss']))\n",
    "\n",
    "preds = model.predict(x=[X_validation.newUserId, X_validation.newMovieId])"
   ]
  },
  {
   "cell_type": "code",
   "execution_count": 25,
   "metadata": {},
   "outputs": [
    {
     "data": {
      "text/plain": [
       "0.639604148555906"
      ]
     },
     "execution_count": 25,
     "metadata": {},
     "output_type": "execute_result"
    }
   ],
   "source": [
    "# MSE on train\n",
    "preds = model.predict(x=[X_train.newUserId, X_train.newMovieId])\n",
    "mean_squared_error(preds, X_train.rating)"
   ]
  },
  {
   "cell_type": "code",
   "execution_count": 26,
   "metadata": {},
   "outputs": [
    {
     "data": {
      "text/plain": [
       "0.642431686033174"
      ]
     },
     "execution_count": 26,
     "metadata": {},
     "output_type": "execute_result"
    }
   ],
   "source": [
    "# MSE on validation\n",
    "preds = model.predict(x=[X_validation.newUserId, X_validation.newMovieId])\n",
    "mean_squared_error(preds, X_validation.rating)"
   ]
  },
  {
   "cell_type": "code",
   "execution_count": 27,
   "metadata": {},
   "outputs": [
    {
     "data": {
      "text/plain": [
       "0.6315331049869991"
      ]
     },
     "execution_count": 27,
     "metadata": {},
     "output_type": "execute_result"
    }
   ],
   "source": [
    "# MSE on test\n",
    "preds = model.predict(x=[X_test.newUserId, X_test.newMovieId])\n",
    "mean_squared_error(preds, X_test.rating)"
   ]
  },
  {
   "cell_type": "markdown",
   "metadata": {},
   "source": [
    "## Experiment #5 - Recommender System using RBMs"
   ]
  },
  {
   "cell_type": "code",
   "execution_count": 441,
   "metadata": {},
   "outputs": [],
   "source": [
    "# Define RBM class\n",
    "class RBM(object):\n",
    "    \n",
    "    def __init__(self, input_size, output_size, \n",
    "                 learning_rate, epochs, batchsize):\n",
    "        # Define hyperparameters\n",
    "        self._input_size = input_size\n",
    "        self._output_size = output_size\n",
    "        self.learning_rate = learning_rate\n",
    "        self.epochs = epochs\n",
    "        self.batchsize = batchsize\n",
    "        \n",
    "        # Initialize weights and biases using zero matrices\n",
    "        self.w = np.zeros([input_size, output_size], dtype=np.float32)\n",
    "        self.hb = np.zeros([output_size], dtype=np.float32)\n",
    "        self.vb = np.zeros([input_size], dtype=np.float32)\n",
    "\n",
    "    def prob_h_given_v(self, visible, w, hb):\n",
    "        return tf.nn.sigmoid(tf.matmul(visible, w) + hb)\n",
    "\n",
    "    def prob_v_given_h(self, hidden, w, vb):\n",
    "        return tf.nn.sigmoid(tf.matmul(hidden, tf.transpose(w)) + vb)\n",
    "    \n",
    "    def sample_prob(self, probs):\n",
    "        return tf.nn.relu(tf.sign(probs - tf.random_uniform(tf.shape(probs))))\n",
    "\n",
    "    def train(self, X):\n",
    "        _w = tf.placeholder(tf.float32, [self._input_size, self._output_size])\n",
    "        _hb = tf.placeholder(tf.float32, [self._output_size])\n",
    "        _vb = tf.placeholder(tf.float32, [self._input_size])\n",
    "        \n",
    "        prv_w = np.zeros([self._input_size, self._output_size], dtype=np.float32)\n",
    "        prv_hb = np.zeros([self._output_size], dtype=np.float32)\n",
    "        prv_vb = np.zeros([self._input_size], dtype=np.float32)\n",
    "        \n",
    "        cur_w = np.zeros([self._input_size, self._output_size], dtype=np.float32)\n",
    "        cur_hb = np.zeros([self._output_size], dtype=np.float32)\n",
    "        cur_vb = np.zeros([self._input_size], dtype=np.float32)\n",
    "        \n",
    "        v0 = tf.placeholder(tf.float32, [None, self._input_size])\n",
    "        h0 = self.sample_prob(self.prob_h_given_v(v0, _w, _hb))\n",
    "        v1 = self.sample_prob(self.prob_v_given_h(h0, _w, _vb))\n",
    "        h1 = self.prob_h_given_v(v1, _w, _hb)\n",
    "        \n",
    "        positive_grad = tf.matmul(tf.transpose(v0), h0)\n",
    "        negative_grad = tf.matmul(tf.transpose(v1), h1)\n",
    "        \n",
    "        update_w = _w + self.learning_rate * \\\n",
    "            (positive_grad - negative_grad) / tf.to_float(tf.shape(v0)[0])\n",
    "        update_vb = _vb + self.learning_rate * tf.reduce_mean(v0 - v1, 0)\n",
    "        update_hb = _hb + self.learning_rate * tf.reduce_mean(h0 - h1, 0)\n",
    "        \n",
    "        err = tf.reduce_mean(tf.square(v0 - v1))\n",
    "        \n",
    "        error_list = []\n",
    "        \n",
    "        with tf.Session() as sess:\n",
    "            sess.run(tf.global_variables_initializer())\n",
    "            \n",
    "            for epoch in range(self.epochs):\n",
    "                for start, end in zip(range(0, len(X), \\\n",
    "                        self.batchsize),range(self.batchsize,len(X), \\\n",
    "                                              self.batchsize)):\n",
    "                    batch = X[start:end]\n",
    "                    cur_w = sess.run(update_w, feed_dict={v0: batch, \\\n",
    "                                    _w: prv_w, _hb: prv_hb, _vb: prv_vb})\n",
    "                    cur_hb = sess.run(update_hb, feed_dict={v0: batch, \\\n",
    "                                    _w: prv_w, _hb: prv_hb, _vb: prv_vb})\n",
    "                    cur_vb = sess.run(update_vb, feed_dict={v0: batch, \\\n",
    "                                    _w: prv_w, _hb: prv_hb, _vb: prv_vb})\n",
    "                    prv_w = cur_w\n",
    "                    prv_hb = cur_hb\n",
    "                    prv_vb = cur_vb\n",
    "                error = sess.run(err, feed_dict={v0: X, \\\n",
    "                                _w: cur_w, _vb: cur_vb, _hb: cur_hb})\n",
    "                print ('Epoch: %d' % epoch,'reconstruction error: %f' % error)\n",
    "                error_list.append(error)\n",
    "            self.w = prv_w\n",
    "            self.hb = prv_hb\n",
    "            self.vb = prv_vb\n",
    "            return error_list\n",
    "\n",
    "    def rbm_output(self, X):\n",
    "        \n",
    "        input_X = tf.constant(X)\n",
    "        _w = tf.constant(self.w)\n",
    "        _hb = tf.constant(self.hb)\n",
    "        _vb = tf.constant(self.vb)\n",
    "        out = tf.nn.sigmoid(tf.matmul(input_X, _w) + _hb)\n",
    "        visibleGen = tf.nn.sigmoid(tf.matmul(out, tf.transpose(_w)) + _vb)\n",
    "        with tf.Session() as sess:\n",
    "            sess.run(tf.global_variables_initializer())\n",
    "            sess.run(out)\n",
    "            sess.run(visibleGen)\n",
    "            return sess.run(out), sess.run(visibleGen)"
   ]
  },
  {
   "cell_type": "code",
   "execution_count": 442,
   "metadata": {},
   "outputs": [],
   "source": [
    "# Begin the training cycle\n",
    "\n",
    "# Convert inputX into float32\n",
    "inputX = ratings_train/5.0\n",
    "inputX = inputX.astype(np.float32)\n",
    "\n",
    "# Define the parameters of the RBMs we will train\n",
    "rbm=RBM(1000,10,0.1,300,200)"
   ]
  },
  {
   "cell_type": "code",
   "execution_count": 443,
   "metadata": {
    "scrolled": true
   },
   "outputs": [
    {
     "name": "stdout",
     "output_type": "stream",
     "text": [
      "Epoch: 0 reconstruction error: 0.373344\n",
      "Epoch: 1 reconstruction error: 0.356891\n",
      "Epoch: 2 reconstruction error: 0.351545\n",
      "Epoch: 3 reconstruction error: 0.354577\n",
      "Epoch: 4 reconstruction error: 0.348203\n",
      "Epoch: 5 reconstruction error: 0.350643\n",
      "Epoch: 6 reconstruction error: 0.349395\n",
      "Epoch: 7 reconstruction error: 0.349601\n",
      "Epoch: 8 reconstruction error: 0.349216\n",
      "Epoch: 9 reconstruction error: 0.346847\n",
      "Epoch: 10 reconstruction error: 0.345416\n",
      "Epoch: 11 reconstruction error: 0.344123\n",
      "Epoch: 12 reconstruction error: 0.343218\n",
      "Epoch: 13 reconstruction error: 0.342587\n",
      "Epoch: 14 reconstruction error: 0.341027\n",
      "Epoch: 15 reconstruction error: 0.340032\n",
      "Epoch: 16 reconstruction error: 0.340589\n",
      "Epoch: 17 reconstruction error: 0.342816\n",
      "Epoch: 18 reconstruction error: 0.340215\n",
      "Epoch: 19 reconstruction error: 0.339538\n",
      "Epoch: 20 reconstruction error: 0.339979\n",
      "Epoch: 21 reconstruction error: 0.339494\n",
      "Epoch: 22 reconstruction error: 0.339618\n",
      "Epoch: 23 reconstruction error: 0.338508\n",
      "Epoch: 24 reconstruction error: 0.336385\n",
      "Epoch: 25 reconstruction error: 0.335904\n",
      "Epoch: 26 reconstruction error: 0.335358\n",
      "Epoch: 27 reconstruction error: 0.335272\n",
      "Epoch: 28 reconstruction error: 0.335596\n",
      "Epoch: 29 reconstruction error: 0.334084\n",
      "Epoch: 30 reconstruction error: 0.333693\n",
      "Epoch: 31 reconstruction error: 0.333168\n",
      "Epoch: 32 reconstruction error: 0.331883\n",
      "Epoch: 33 reconstruction error: 0.331797\n",
      "Epoch: 34 reconstruction error: 0.331778\n",
      "Epoch: 35 reconstruction error: 0.330559\n",
      "Epoch: 36 reconstruction error: 0.330651\n",
      "Epoch: 37 reconstruction error: 0.329996\n",
      "Epoch: 38 reconstruction error: 0.329825\n",
      "Epoch: 39 reconstruction error: 0.329386\n",
      "Epoch: 40 reconstruction error: 0.329113\n",
      "Epoch: 41 reconstruction error: 0.328156\n",
      "Epoch: 42 reconstruction error: 0.328434\n",
      "Epoch: 43 reconstruction error: 0.327995\n",
      "Epoch: 44 reconstruction error: 0.328283\n",
      "Epoch: 45 reconstruction error: 0.327808\n",
      "Epoch: 46 reconstruction error: 0.327461\n",
      "Epoch: 47 reconstruction error: 0.325917\n",
      "Epoch: 48 reconstruction error: 0.326661\n",
      "Epoch: 49 reconstruction error: 0.326045\n",
      "Epoch: 50 reconstruction error: 0.325495\n",
      "Epoch: 51 reconstruction error: 0.326224\n",
      "Epoch: 52 reconstruction error: 0.326111\n",
      "Epoch: 53 reconstruction error: 0.325418\n",
      "Epoch: 54 reconstruction error: 0.324921\n",
      "Epoch: 55 reconstruction error: 0.324825\n",
      "Epoch: 56 reconstruction error: 0.324883\n",
      "Epoch: 57 reconstruction error: 0.324447\n",
      "Epoch: 58 reconstruction error: 0.324445\n",
      "Epoch: 59 reconstruction error: 0.323876\n",
      "Epoch: 60 reconstruction error: 0.323462\n",
      "Epoch: 61 reconstruction error: 0.324247\n",
      "Epoch: 62 reconstruction error: 0.323223\n",
      "Epoch: 63 reconstruction error: 0.323241\n",
      "Epoch: 64 reconstruction error: 0.323007\n",
      "Epoch: 65 reconstruction error: 0.322926\n",
      "Epoch: 66 reconstruction error: 0.323317\n",
      "Epoch: 67 reconstruction error: 0.322416\n",
      "Epoch: 68 reconstruction error: 0.322801\n",
      "Epoch: 69 reconstruction error: 0.323263\n",
      "Epoch: 70 reconstruction error: 0.323329\n",
      "Epoch: 71 reconstruction error: 0.323297\n",
      "Epoch: 72 reconstruction error: 0.322256\n",
      "Epoch: 73 reconstruction error: 0.321838\n",
      "Epoch: 74 reconstruction error: 0.322491\n",
      "Epoch: 75 reconstruction error: 0.322129\n",
      "Epoch: 76 reconstruction error: 0.322057\n",
      "Epoch: 77 reconstruction error: 0.322818\n",
      "Epoch: 78 reconstruction error: 0.321905\n",
      "Epoch: 79 reconstruction error: 0.321450\n",
      "Epoch: 80 reconstruction error: 0.321407\n",
      "Epoch: 81 reconstruction error: 0.320960\n",
      "Epoch: 82 reconstruction error: 0.321029\n",
      "Epoch: 83 reconstruction error: 0.321491\n",
      "Epoch: 84 reconstruction error: 0.320625\n",
      "Epoch: 85 reconstruction error: 0.320401\n",
      "Epoch: 86 reconstruction error: 0.321141\n",
      "Epoch: 87 reconstruction error: 0.320564\n",
      "Epoch: 88 reconstruction error: 0.320380\n",
      "Epoch: 89 reconstruction error: 0.320139\n",
      "Epoch: 90 reconstruction error: 0.320200\n",
      "Epoch: 91 reconstruction error: 0.319993\n",
      "Epoch: 92 reconstruction error: 0.320244\n",
      "Epoch: 93 reconstruction error: 0.320245\n",
      "Epoch: 94 reconstruction error: 0.319737\n",
      "Epoch: 95 reconstruction error: 0.319010\n",
      "Epoch: 96 reconstruction error: 0.320175\n",
      "Epoch: 97 reconstruction error: 0.319766\n",
      "Epoch: 98 reconstruction error: 0.319213\n",
      "Epoch: 99 reconstruction error: 0.319398\n",
      "Epoch: 100 reconstruction error: 0.318528\n",
      "Epoch: 101 reconstruction error: 0.318585\n",
      "Epoch: 102 reconstruction error: 0.318771\n",
      "Epoch: 103 reconstruction error: 0.318564\n",
      "Epoch: 104 reconstruction error: 0.318718\n",
      "Epoch: 105 reconstruction error: 0.318353\n",
      "Epoch: 106 reconstruction error: 0.317736\n",
      "Epoch: 107 reconstruction error: 0.318063\n",
      "Epoch: 108 reconstruction error: 0.318546\n",
      "Epoch: 109 reconstruction error: 0.318271\n",
      "Epoch: 110 reconstruction error: 0.318503\n",
      "Epoch: 111 reconstruction error: 0.317439\n",
      "Epoch: 112 reconstruction error: 0.317265\n",
      "Epoch: 113 reconstruction error: 0.317797\n",
      "Epoch: 114 reconstruction error: 0.318259\n",
      "Epoch: 115 reconstruction error: 0.317774\n",
      "Epoch: 116 reconstruction error: 0.316909\n",
      "Epoch: 117 reconstruction error: 0.317375\n",
      "Epoch: 118 reconstruction error: 0.317331\n",
      "Epoch: 119 reconstruction error: 0.317080\n",
      "Epoch: 120 reconstruction error: 0.317398\n",
      "Epoch: 121 reconstruction error: 0.317608\n",
      "Epoch: 122 reconstruction error: 0.317176\n",
      "Epoch: 123 reconstruction error: 0.317200\n",
      "Epoch: 124 reconstruction error: 0.316956\n",
      "Epoch: 125 reconstruction error: 0.317370\n",
      "Epoch: 126 reconstruction error: 0.316651\n",
      "Epoch: 127 reconstruction error: 0.316645\n",
      "Epoch: 128 reconstruction error: 0.317128\n",
      "Epoch: 129 reconstruction error: 0.316867\n",
      "Epoch: 130 reconstruction error: 0.317073\n",
      "Epoch: 131 reconstruction error: 0.316917\n",
      "Epoch: 132 reconstruction error: 0.316378\n",
      "Epoch: 133 reconstruction error: 0.315870\n",
      "Epoch: 134 reconstruction error: 0.315826\n",
      "Epoch: 135 reconstruction error: 0.316880\n",
      "Epoch: 136 reconstruction error: 0.316207\n",
      "Epoch: 137 reconstruction error: 0.315603\n",
      "Epoch: 138 reconstruction error: 0.316110\n",
      "Epoch: 139 reconstruction error: 0.316493\n",
      "Epoch: 140 reconstruction error: 0.316358\n",
      "Epoch: 141 reconstruction error: 0.316020\n",
      "Epoch: 142 reconstruction error: 0.315572\n",
      "Epoch: 143 reconstruction error: 0.316195\n",
      "Epoch: 144 reconstruction error: 0.315948\n",
      "Epoch: 145 reconstruction error: 0.316464\n",
      "Epoch: 146 reconstruction error: 0.316206\n",
      "Epoch: 147 reconstruction error: 0.315958\n",
      "Epoch: 148 reconstruction error: 0.315496\n",
      "Epoch: 149 reconstruction error: 0.315672\n",
      "Epoch: 150 reconstruction error: 0.316267\n",
      "Epoch: 151 reconstruction error: 0.315994\n",
      "Epoch: 152 reconstruction error: 0.315589\n",
      "Epoch: 153 reconstruction error: 0.315463\n",
      "Epoch: 154 reconstruction error: 0.315385\n",
      "Epoch: 155 reconstruction error: 0.315190\n",
      "Epoch: 156 reconstruction error: 0.315478\n",
      "Epoch: 157 reconstruction error: 0.315788\n",
      "Epoch: 158 reconstruction error: 0.315181\n",
      "Epoch: 159 reconstruction error: 0.315563\n",
      "Epoch: 160 reconstruction error: 0.314792\n",
      "Epoch: 161 reconstruction error: 0.315397\n",
      "Epoch: 162 reconstruction error: 0.315501\n",
      "Epoch: 163 reconstruction error: 0.315098\n",
      "Epoch: 164 reconstruction error: 0.314959\n",
      "Epoch: 165 reconstruction error: 0.315182\n",
      "Epoch: 166 reconstruction error: 0.315148\n",
      "Epoch: 167 reconstruction error: 0.315184\n",
      "Epoch: 168 reconstruction error: 0.314902\n",
      "Epoch: 169 reconstruction error: 0.315249\n",
      "Epoch: 170 reconstruction error: 0.315612\n",
      "Epoch: 171 reconstruction error: 0.314948\n",
      "Epoch: 172 reconstruction error: 0.314705\n",
      "Epoch: 173 reconstruction error: 0.314338\n",
      "Epoch: 174 reconstruction error: 0.314705\n",
      "Epoch: 175 reconstruction error: 0.314028\n",
      "Epoch: 176 reconstruction error: 0.313923\n",
      "Epoch: 177 reconstruction error: 0.314835\n",
      "Epoch: 178 reconstruction error: 0.314586\n",
      "Epoch: 179 reconstruction error: 0.314576\n",
      "Epoch: 180 reconstruction error: 0.313814\n",
      "Epoch: 181 reconstruction error: 0.314756\n",
      "Epoch: 182 reconstruction error: 0.314273\n",
      "Epoch: 183 reconstruction error: 0.314339\n",
      "Epoch: 184 reconstruction error: 0.314396\n",
      "Epoch: 185 reconstruction error: 0.314038\n",
      "Epoch: 186 reconstruction error: 0.314476\n",
      "Epoch: 187 reconstruction error: 0.313826\n",
      "Epoch: 188 reconstruction error: 0.314402\n",
      "Epoch: 189 reconstruction error: 0.313467\n",
      "Epoch: 190 reconstruction error: 0.314529\n",
      "Epoch: 191 reconstruction error: 0.314508\n",
      "Epoch: 192 reconstruction error: 0.313985\n",
      "Epoch: 193 reconstruction error: 0.313212\n",
      "Epoch: 194 reconstruction error: 0.314724\n",
      "Epoch: 195 reconstruction error: 0.313498\n",
      "Epoch: 196 reconstruction error: 0.313831\n",
      "Epoch: 197 reconstruction error: 0.314282\n"
     ]
    },
    {
     "name": "stdout",
     "output_type": "stream",
     "text": [
      "Epoch: 198 reconstruction error: 0.314487\n",
      "Epoch: 199 reconstruction error: 0.313704\n",
      "Epoch: 200 reconstruction error: 0.313605\n",
      "Epoch: 201 reconstruction error: 0.313391\n",
      "Epoch: 202 reconstruction error: 0.313578\n",
      "Epoch: 203 reconstruction error: 0.314003\n",
      "Epoch: 204 reconstruction error: 0.313812\n",
      "Epoch: 205 reconstruction error: 0.313796\n",
      "Epoch: 206 reconstruction error: 0.313847\n",
      "Epoch: 207 reconstruction error: 0.313798\n",
      "Epoch: 208 reconstruction error: 0.313366\n",
      "Epoch: 209 reconstruction error: 0.313118\n",
      "Epoch: 210 reconstruction error: 0.313262\n",
      "Epoch: 211 reconstruction error: 0.313039\n",
      "Epoch: 212 reconstruction error: 0.313467\n",
      "Epoch: 213 reconstruction error: 0.313410\n",
      "Epoch: 214 reconstruction error: 0.313590\n",
      "Epoch: 215 reconstruction error: 0.313136\n",
      "Epoch: 216 reconstruction error: 0.313008\n",
      "Epoch: 217 reconstruction error: 0.312980\n",
      "Epoch: 218 reconstruction error: 0.313654\n",
      "Epoch: 219 reconstruction error: 0.312918\n",
      "Epoch: 220 reconstruction error: 0.313168\n",
      "Epoch: 221 reconstruction error: 0.312935\n",
      "Epoch: 222 reconstruction error: 0.313273\n",
      "Epoch: 223 reconstruction error: 0.312624\n",
      "Epoch: 224 reconstruction error: 0.312972\n",
      "Epoch: 225 reconstruction error: 0.312911\n",
      "Epoch: 226 reconstruction error: 0.312756\n",
      "Epoch: 227 reconstruction error: 0.313274\n",
      "Epoch: 228 reconstruction error: 0.312813\n",
      "Epoch: 229 reconstruction error: 0.313331\n",
      "Epoch: 230 reconstruction error: 0.312611\n",
      "Epoch: 231 reconstruction error: 0.313066\n",
      "Epoch: 232 reconstruction error: 0.313072\n",
      "Epoch: 233 reconstruction error: 0.312264\n",
      "Epoch: 234 reconstruction error: 0.313256\n",
      "Epoch: 235 reconstruction error: 0.312409\n",
      "Epoch: 236 reconstruction error: 0.312783\n",
      "Epoch: 237 reconstruction error: 0.312559\n",
      "Epoch: 238 reconstruction error: 0.312798\n",
      "Epoch: 239 reconstruction error: 0.313481\n",
      "Epoch: 240 reconstruction error: 0.312553\n",
      "Epoch: 241 reconstruction error: 0.312907\n",
      "Epoch: 242 reconstruction error: 0.312813\n",
      "Epoch: 243 reconstruction error: 0.312757\n",
      "Epoch: 244 reconstruction error: 0.312816\n",
      "Epoch: 245 reconstruction error: 0.312506\n",
      "Epoch: 246 reconstruction error: 0.312841\n",
      "Epoch: 247 reconstruction error: 0.311961\n",
      "Epoch: 248 reconstruction error: 0.312307\n",
      "Epoch: 249 reconstruction error: 0.312239\n",
      "Epoch: 250 reconstruction error: 0.312991\n",
      "Epoch: 251 reconstruction error: 0.312764\n",
      "Epoch: 252 reconstruction error: 0.312467\n",
      "Epoch: 253 reconstruction error: 0.312425\n",
      "Epoch: 254 reconstruction error: 0.312133\n",
      "Epoch: 255 reconstruction error: 0.312398\n",
      "Epoch: 256 reconstruction error: 0.312836\n",
      "Epoch: 257 reconstruction error: 0.312094\n",
      "Epoch: 258 reconstruction error: 0.312316\n",
      "Epoch: 259 reconstruction error: 0.312545\n",
      "Epoch: 260 reconstruction error: 0.312069\n",
      "Epoch: 261 reconstruction error: 0.312784\n",
      "Epoch: 262 reconstruction error: 0.312918\n",
      "Epoch: 263 reconstruction error: 0.311544\n",
      "Epoch: 264 reconstruction error: 0.312109\n",
      "Epoch: 265 reconstruction error: 0.312006\n",
      "Epoch: 266 reconstruction error: 0.312758\n",
      "Epoch: 267 reconstruction error: 0.312813\n",
      "Epoch: 268 reconstruction error: 0.312610\n",
      "Epoch: 269 reconstruction error: 0.312150\n",
      "Epoch: 270 reconstruction error: 0.311684\n",
      "Epoch: 271 reconstruction error: 0.312238\n",
      "Epoch: 272 reconstruction error: 0.311665\n",
      "Epoch: 273 reconstruction error: 0.312207\n",
      "Epoch: 274 reconstruction error: 0.312437\n",
      "Epoch: 275 reconstruction error: 0.311457\n",
      "Epoch: 276 reconstruction error: 0.311926\n",
      "Epoch: 277 reconstruction error: 0.311645\n",
      "Epoch: 278 reconstruction error: 0.311805\n",
      "Epoch: 279 reconstruction error: 0.311959\n",
      "Epoch: 280 reconstruction error: 0.312742\n",
      "Epoch: 281 reconstruction error: 0.311371\n",
      "Epoch: 282 reconstruction error: 0.311841\n",
      "Epoch: 283 reconstruction error: 0.312236\n",
      "Epoch: 284 reconstruction error: 0.311941\n",
      "Epoch: 285 reconstruction error: 0.311592\n",
      "Epoch: 286 reconstruction error: 0.311908\n",
      "Epoch: 287 reconstruction error: 0.312059\n",
      "Epoch: 288 reconstruction error: 0.311467\n",
      "Epoch: 289 reconstruction error: 0.312086\n",
      "Epoch: 290 reconstruction error: 0.311513\n",
      "Epoch: 291 reconstruction error: 0.312313\n",
      "Epoch: 292 reconstruction error: 0.312002\n",
      "Epoch: 293 reconstruction error: 0.312235\n",
      "Epoch: 294 reconstruction error: 0.311120\n",
      "Epoch: 295 reconstruction error: 0.311597\n",
      "Epoch: 296 reconstruction error: 0.311948\n",
      "Epoch: 297 reconstruction error: 0.311804\n",
      "Epoch: 298 reconstruction error: 0.312158\n",
      "Epoch: 299 reconstruction error: 0.311656\n"
     ]
    }
   ],
   "source": [
    "# Train RBM model\n",
    "err = rbm.train(inputX)\n",
    "outputX, reconstructedX = rbm.rbm_output(inputX)"
   ]
  },
  {
   "cell_type": "code",
   "execution_count": 452,
   "metadata": {},
   "outputs": [
    {
     "data": {
      "text/plain": [
       "Text(0,0.5,'Reconstruction Error')"
      ]
     },
     "execution_count": 452,
     "metadata": {},
     "output_type": "execute_result"
    },
    {
     "data": {
      "image/png": "[encoded data removed]",
      "text/plain": [
       "<Figure size 432x288 with 1 Axes>"
      ]
     },
     "metadata": {
      "needs_background": "light"
     },
     "output_type": "display_data"
    }
   ],
   "source": [
    "# Plot reconstruction errors\n",
    "pd.Series(err).plot(logy=False)\n",
    "plt.xlabel(\"Epoch\")\n",
    "plt.ylabel(\"Reconstruction Error\")"
   ]
  },
  {
   "cell_type": "code",
   "execution_count": 453,
   "metadata": {},
   "outputs": [],
   "source": [
    "# Find scaling factor based on training set\n",
    "actual_train = ratings_train[ratings_train.nonzero()].flatten()\n",
    "train_mean = np.mean(actual_train)"
   ]
  },
  {
   "cell_type": "code",
   "execution_count": 454,
   "metadata": {},
   "outputs": [
    {
     "name": "stdout",
     "output_type": "stream",
     "text": [
      "Mean squared error using RBM prediction: 1.4462461142751912\n"
     ]
    }
   ],
   "source": [
    "# Calculate MSE on train set\n",
    "predictionsArray = reconstructedX\n",
    "pred_train = \\\n",
    "    predictionsArray[ratings_train.nonzero()].flatten()\n",
    "pred_train = pred_train * train_mean/np.mean(pred_train)\n",
    "actual_train = \\\n",
    "    ratings_train[ratings_train.nonzero()].flatten()\n",
    "\n",
    "rbm_prediction = mean_squared_error(pred_train, actual_train)\n",
    "print('Mean squared error using RBM prediction:', rbm_prediction)"
   ]
  },
  {
   "cell_type": "code",
   "execution_count": 455,
   "metadata": {},
   "outputs": [
    {
     "name": "stdout",
     "output_type": "stream",
     "text": [
      "Mean squared error using RBM prediction: 1.5199086884585058\n"
     ]
    }
   ],
   "source": [
    "# Calculate MSE on validation set\n",
    "predictionsArray = reconstructedX\n",
    "pred_validation = \\\n",
    "    predictionsArray[ratings_validation.nonzero()].flatten()\n",
    "pred_validation = pred_validation * train_mean/np.mean(pred_validation)\n",
    "actual_validation = \\\n",
    "    ratings_validation[ratings_validation.nonzero()].flatten()\n",
    "\n",
    "rbm_prediction = mean_squared_error(pred_validation, actual_validation)\n",
    "print('Mean squared error using RBM prediction:', rbm_prediction)"
   ]
  },
  {
   "cell_type": "code",
   "execution_count": 450,
   "metadata": {},
   "outputs": [
    {
     "data": {
      "text/plain": [
       "array([2.3059192, 4.7426066, 1.3889569, ..., 4.119414 , 1.9129831,\n",
       "       2.7060237], dtype=float32)"
      ]
     },
     "execution_count": 450,
     "metadata": {},
     "output_type": "execute_result"
    }
   ],
   "source": [
    "# View generated predictions on validation set\n",
    "pred_validation"
   ]
  },
  {
   "cell_type": "code",
   "execution_count": 449,
   "metadata": {},
   "outputs": [
    {
     "data": {
      "text/plain": [
       "array([4. , 4. , 3. , ..., 3.5, 3. , 4.5])"
      ]
     },
     "execution_count": 449,
     "metadata": {},
     "output_type": "execute_result"
    }
   ],
   "source": [
    "# View actual ratings in validation set\n",
    "actual_validation"
   ]
  },
  {
   "cell_type": "markdown",
   "metadata": {},
   "source": [
    "## Exercise\n",
    "Train the RBM with an input layer of 1,000 nodes, a output layer of 50 nodes, a learning rate of 0.3, and a batch size of 32 for 100 epochs.\n",
    "\n",
    "Then, evaluate the performance on the train set and validation set."
   ]
  },
  {
   "cell_type": "code",
   "execution_count": null,
   "metadata": {},
   "outputs": [],
   "source": [
    "# Begin the training cycle\n",
    "\n",
    "# Convert inputX into float32\n",
    "inputX = ratings_train/5.0\n",
    "inputX = inputX.astype(np.float32)\n",
    "\n",
    "# Define the parameters of the RBMs we will train\n",
    "rbm=RBM(#input nodes, #output nodes, #learning rate, #epochs, #batch size)"
   ]
  },
  {
   "cell_type": "code",
   "execution_count": null,
   "metadata": {},
   "outputs": [],
   "source": [
    "# Train RBM model\n",
    "err = rbm.train(#Fill in)\n",
    "outputX, reconstructedX = rbm.rbm_output(#Fill in)"
   ]
  },
  {
   "cell_type": "code",
   "execution_count": null,
   "metadata": {},
   "outputs": [],
   "source": [
    "# Plot reconstruction errors\n",
    "pd.Series(err).plot(logy=False)\n",
    "plt.xlabel(\"Epoch\")\n",
    "plt.ylabel(\"Reconstruction Error\")"
   ]
  },
  {
   "cell_type": "code",
   "execution_count": null,
   "metadata": {},
   "outputs": [],
   "source": [
    "# Calculate MSE on train set\n",
    "predictionsArray = reconstructedX\n",
    "pred_train = \\\n",
    "    predictionsArray[ratings_train.nonzero()].flatten()\n",
    "pred_train = pred_train * train_mean/np.mean(pred_train)\n",
    "actual_train = \\\n",
    "    ratings_train[ratings_train.nonzero()].flatten()\n",
    "\n",
    "rbm_prediction = mean_squared_error(pred_train, actual_train)\n",
    "print('Mean squared error using RBM prediction:', rbm_prediction)"
   ]
  },
  {
   "cell_type": "code",
   "execution_count": null,
   "metadata": {},
   "outputs": [],
   "source": [
    "# Calculate MSE on validation set\n",
    "predictionsArray = reconstructedX\n",
    "pred_validation = \\\n",
    "    predictionsArray[ratings_validation.nonzero()].flatten()\n",
    "pred_validation = pred_validation * train_mean/np.mean(pred_validation)\n",
    "actual_validation = \\\n",
    "    ratings_validation[ratings_validation.nonzero()].flatten()\n",
    "\n",
    "rbm_prediction = mean_squared_error(pred_validation, actual_validation)\n",
    "print('Mean squared error using RBM prediction:', rbm_prediction)"
   ]
  },
  {
   "cell_type": "markdown",
   "metadata": {},
   "source": [
    "## Answers to Exercise"
   ]
  },
  {
   "cell_type": "code",
   "execution_count": 466,
   "metadata": {},
   "outputs": [],
   "source": [
    "# Begin the training cycle\n",
    "\n",
    "# Convert inputX into float32\n",
    "inputX = ratings_train/5.0\n",
    "inputX = inputX.astype(np.float32)\n",
    "\n",
    "# Define the parameters of the RBMs we will train\n",
    "rbm=RBM(1000, 50, 0.3, 100, 32)"
   ]
  },
  {
   "cell_type": "code",
   "execution_count": 467,
   "metadata": {
    "scrolled": true
   },
   "outputs": [
    {
     "name": "stdout",
     "output_type": "stream",
     "text": [
      "Epoch: 0 reconstruction error: 0.340329\n",
      "Epoch: 1 reconstruction error: 0.327993\n",
      "Epoch: 2 reconstruction error: 0.324682\n",
      "Epoch: 3 reconstruction error: 0.319737\n",
      "Epoch: 4 reconstruction error: 0.318710\n",
      "Epoch: 5 reconstruction error: 0.318334\n",
      "Epoch: 6 reconstruction error: 0.317085\n",
      "Epoch: 7 reconstruction error: 0.314701\n",
      "Epoch: 8 reconstruction error: 0.311883\n",
      "Epoch: 9 reconstruction error: 0.311666\n",
      "Epoch: 10 reconstruction error: 0.312351\n",
      "Epoch: 11 reconstruction error: 0.310968\n",
      "Epoch: 12 reconstruction error: 0.309597\n",
      "Epoch: 13 reconstruction error: 0.309275\n",
      "Epoch: 14 reconstruction error: 0.307854\n",
      "Epoch: 15 reconstruction error: 0.306642\n",
      "Epoch: 16 reconstruction error: 0.306803\n",
      "Epoch: 17 reconstruction error: 0.306945\n",
      "Epoch: 18 reconstruction error: 0.305921\n",
      "Epoch: 19 reconstruction error: 0.305663\n",
      "Epoch: 20 reconstruction error: 0.305268\n",
      "Epoch: 21 reconstruction error: 0.305762\n",
      "Epoch: 22 reconstruction error: 0.307384\n",
      "Epoch: 23 reconstruction error: 0.305124\n",
      "Epoch: 24 reconstruction error: 0.305163\n",
      "Epoch: 25 reconstruction error: 0.303618\n",
      "Epoch: 26 reconstruction error: 0.305164\n",
      "Epoch: 27 reconstruction error: 0.304515\n",
      "Epoch: 28 reconstruction error: 0.305721\n",
      "Epoch: 29 reconstruction error: 0.301935\n",
      "Epoch: 30 reconstruction error: 0.304455\n",
      "Epoch: 31 reconstruction error: 0.302173\n",
      "Epoch: 32 reconstruction error: 0.302244\n",
      "Epoch: 33 reconstruction error: 0.300529\n",
      "Epoch: 34 reconstruction error: 0.302793\n",
      "Epoch: 35 reconstruction error: 0.302222\n",
      "Epoch: 36 reconstruction error: 0.300264\n",
      "Epoch: 37 reconstruction error: 0.302416\n",
      "Epoch: 38 reconstruction error: 0.301592\n",
      "Epoch: 39 reconstruction error: 0.301596\n",
      "Epoch: 40 reconstruction error: 0.300924\n",
      "Epoch: 41 reconstruction error: 0.299807\n",
      "Epoch: 42 reconstruction error: 0.299928\n",
      "Epoch: 43 reconstruction error: 0.300000\n",
      "Epoch: 44 reconstruction error: 0.300342\n",
      "Epoch: 45 reconstruction error: 0.299913\n",
      "Epoch: 46 reconstruction error: 0.297986\n",
      "Epoch: 47 reconstruction error: 0.299379\n",
      "Epoch: 48 reconstruction error: 0.298931\n",
      "Epoch: 49 reconstruction error: 0.299039\n",
      "Epoch: 50 reconstruction error: 0.299321\n",
      "Epoch: 51 reconstruction error: 0.297573\n",
      "Epoch: 52 reconstruction error: 0.297910\n",
      "Epoch: 53 reconstruction error: 0.299169\n",
      "Epoch: 54 reconstruction error: 0.298520\n",
      "Epoch: 55 reconstruction error: 0.298067\n",
      "Epoch: 56 reconstruction error: 0.296860\n",
      "Epoch: 57 reconstruction error: 0.296462\n",
      "Epoch: 58 reconstruction error: 0.297946\n",
      "Epoch: 59 reconstruction error: 0.297165\n",
      "Epoch: 60 reconstruction error: 0.297229\n",
      "Epoch: 61 reconstruction error: 0.297366\n",
      "Epoch: 62 reconstruction error: 0.295957\n",
      "Epoch: 63 reconstruction error: 0.295504\n",
      "Epoch: 64 reconstruction error: 0.295878\n",
      "Epoch: 65 reconstruction error: 0.296311\n",
      "Epoch: 66 reconstruction error: 0.296545\n",
      "Epoch: 67 reconstruction error: 0.296196\n",
      "Epoch: 68 reconstruction error: 0.295314\n",
      "Epoch: 69 reconstruction error: 0.296387\n",
      "Epoch: 70 reconstruction error: 0.297138\n",
      "Epoch: 71 reconstruction error: 0.295398\n",
      "Epoch: 72 reconstruction error: 0.296308\n",
      "Epoch: 73 reconstruction error: 0.295985\n",
      "Epoch: 74 reconstruction error: 0.295092\n",
      "Epoch: 75 reconstruction error: 0.295959\n",
      "Epoch: 76 reconstruction error: 0.295951\n",
      "Epoch: 77 reconstruction error: 0.296573\n",
      "Epoch: 78 reconstruction error: 0.295856\n",
      "Epoch: 79 reconstruction error: 0.294045\n",
      "Epoch: 80 reconstruction error: 0.295374\n",
      "Epoch: 81 reconstruction error: 0.294964\n",
      "Epoch: 82 reconstruction error: 0.293650\n",
      "Epoch: 83 reconstruction error: 0.295200\n",
      "Epoch: 84 reconstruction error: 0.295728\n",
      "Epoch: 85 reconstruction error: 0.295711\n",
      "Epoch: 86 reconstruction error: 0.294165\n",
      "Epoch: 87 reconstruction error: 0.295072\n",
      "Epoch: 88 reconstruction error: 0.295027\n",
      "Epoch: 89 reconstruction error: 0.295317\n",
      "Epoch: 90 reconstruction error: 0.294729\n",
      "Epoch: 91 reconstruction error: 0.294747\n",
      "Epoch: 92 reconstruction error: 0.294362\n",
      "Epoch: 93 reconstruction error: 0.295352\n",
      "Epoch: 94 reconstruction error: 0.294250\n",
      "Epoch: 95 reconstruction error: 0.295634\n",
      "Epoch: 96 reconstruction error: 0.294797\n",
      "Epoch: 97 reconstruction error: 0.295227\n",
      "Epoch: 98 reconstruction error: 0.295512\n",
      "Epoch: 99 reconstruction error: 0.294262\n"
     ]
    }
   ],
   "source": [
    "# Train RBM model\n",
    "err = rbm.train(inputX)\n",
    "outputX, reconstructedX = rbm.rbm_output(inputX)"
   ]
  },
  {
   "cell_type": "code",
   "execution_count": 470,
   "metadata": {},
   "outputs": [
    {
     "data": {
      "text/plain": [
       "Text(0,0.5,'Reconstruction Error')"
      ]
     },
     "execution_count": 470,
     "metadata": {},
     "output_type": "execute_result"
    },
    {
     "data": {
      "image/png": "[encoded data removed]",
      "text/plain": [
       "<Figure size 432x288 with 1 Axes>"
      ]
     },
     "metadata": {
      "needs_background": "light"
     },
     "output_type": "display_data"
    }
   ],
   "source": [
    "# Plot reconstruction errors\n",
    "pd.Series(err).plot(logy=False)\n",
    "plt.xlabel(\"Epoch\")\n",
    "plt.ylabel(\"Reconstruction Error\")"
   ]
  },
  {
   "cell_type": "code",
   "execution_count": 468,
   "metadata": {},
   "outputs": [
    {
     "name": "stdout",
     "output_type": "stream",
     "text": [
      "Mean squared error using RBM prediction: 1.507355846739135\n"
     ]
    }
   ],
   "source": [
    "# Calculate MSE on train set\n",
    "predictionsArray = reconstructedX\n",
    "pred_train = \\\n",
    "    predictionsArray[ratings_train.nonzero()].flatten()\n",
    "pred_train = pred_train * train_mean/np.mean(pred_train)\n",
    "actual_train = \\\n",
    "    ratings_train[ratings_train.nonzero()].flatten()\n",
    "\n",
    "rbm_prediction = mean_squared_error(pred_train, actual_train)\n",
    "print('Mean squared error using RBM prediction:', rbm_prediction)"
   ]
  },
  {
   "cell_type": "code",
   "execution_count": 469,
   "metadata": {},
   "outputs": [
    {
     "name": "stdout",
     "output_type": "stream",
     "text": [
      "Mean squared error using RBM prediction: 1.6891776448466562\n"
     ]
    }
   ],
   "source": [
    "# Calculate MSE on validation set\n",
    "predictionsArray = reconstructedX\n",
    "pred_validation = \\\n",
    "    predictionsArray[ratings_validation.nonzero()].flatten()\n",
    "pred_validation = pred_validation * train_mean/np.mean(pred_validation)\n",
    "actual_validation = \\\n",
    "    ratings_validation[ratings_validation.nonzero()].flatten()\n",
    "\n",
    "rbm_prediction = mean_squared_error(pred_validation, actual_validation)\n",
    "print('Mean squared error using RBM prediction:', rbm_prediction)"
   ]
  },
  {
   "cell_type": "markdown",
   "metadata": {},
   "source": [
    "## Conclusion\n",
    "In this notebook, we explored generative models and RBMs.\n",
    "\n",
    "We then built non-generative movie recommender systems.\n",
    "\n",
    "And then we built a generative model-based movie recommender system using RBMs.\n",
    "\n",
    "The generative model-based movie recommender system did not fare as well as the non-generative movie recommender systems.\n",
    "\n",
    "But, there is a lot of room for improvement. This is what makes building great generative models and recommender systems difficult.\n",
    "\n",
    "Congratulations, you've finished this course! \n",
    "Go build more recommender systems in your field!\n",
    "\n",
    "The next course in the Inside Unsupervised Learning series is Anomaly Detection Using Unsupervised Learning.\n",
    "https://learning.oreilly.com/live-training/courses/inside-unsupervised-learning-anomaly-detection-using-dimensionality-reduction/0636920289654/\n",
    "\n",
    "You could also learn more about Unsupervised Learning in my book, Hands-on Unsupervised Learning Using Python.\n",
    "https://www.unsupervisedlearningbook.com/\n",
    "\n",
    "Finally, there is a Slack commmunity for you to join.\n",
    "https://join.slack.com/t/unsupervisedbook/shared_invite/enQtNjQzMjMyMjAyMjQyLTE3MWZlNTU0N2U3Zjg2MzNjMjM5MTI4YmIxY2ExOTIzNzA0ZTVmYjAyYWJhMjE1ZTc3NDRiNDIwOGM5YmY0M2E"
   ]
  }
 ],
 "metadata": {
  "kernelspec": {
   "display_name": "Python 3",
   "language": "python",
   "name": "python3"
  },
  "language_info": {
   "codemirror_mode": {
    "name": "ipython",
    "version": 3
   },
   "file_extension": ".py",
   "mimetype": "text/x-python",
   "name": "python",
   "nbconvert_exporter": "python",
   "pygments_lexer": "ipython3",
   "version": "3.6.5"
  }
 },
 "nbformat": 4,
 "nbformat_minor": 2
}
